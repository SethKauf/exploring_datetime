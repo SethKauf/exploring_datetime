{
 "cells": [
  {
   "cell_type": "markdown",
   "metadata": {},
   "source": [
    "# Pandas DateTime Exploration #"
   ]
  },
  {
   "cell_type": "code",
   "execution_count": 1,
   "metadata": {},
   "outputs": [],
   "source": [
    "import pandas as pd\n",
    "import matplotlib as plt\n",
    "%matplotlib inline\n",
    "import seaborn as sns\n",
    "import numpy as np\n",
    "import datetime as dt\n",
    "import warnings"
   ]
  },
  {
   "cell_type": "code",
   "execution_count": 2,
   "metadata": {},
   "outputs": [
    {
     "name": "stderr",
     "output_type": "stream",
     "text": [
      "C:\\Users\\sethk\\anaconda3\\envs\\learn-env\\lib\\site-packages\\IPython\\core\\interactiveshell.py:3145: DtypeWarning: Columns (33) have mixed types.Specify dtype option on import or set low_memory=False.\n",
      "  has_raised = await self.run_ast_nodes(code_ast.body, cell_name,\n"
     ]
    }
   ],
   "source": [
    "# using data from previous project on car accidents in Chicago\n",
    "df = pd.read_csv('data/Crashes.csv')\n",
    "warnings.filterwarnings('ignore')"
   ]
  },
  {
   "cell_type": "code",
   "execution_count": 3,
   "metadata": {},
   "outputs": [],
   "source": [
    "# it's a large dataset so let's just use 100 records\n",
    "sample_df = df[:100]"
   ]
  },
  {
   "cell_type": "code",
   "execution_count": 4,
   "metadata": {},
   "outputs": [],
   "source": [
    "# fixing columns names\n",
    "sample_df.columns = sample_df.columns.str.strip().str.lower()"
   ]
  },
  {
   "cell_type": "code",
   "execution_count": 5,
   "metadata": {
    "scrolled": true
   },
   "outputs": [
    {
     "data": {
      "text/plain": [
       "0    07/10/2019 05:56:00 PM\n",
       "1    06/30/2017 04:00:00 PM\n",
       "2    07/10/2020 10:25:00 AM\n",
       "3    07/11/2020 01:00:00 AM\n",
       "4    07/08/2020 02:00:00 PM\n",
       "5    03/21/2019 10:50:00 PM\n",
       "6    03/26/2018 02:23:00 PM\n",
       "7    07/10/2020 10:20:00 PM\n",
       "8    07/09/2020 05:06:00 PM\n",
       "9    06/29/2020 05:55:00 PM\n",
       "Name: crash_date, dtype: object"
      ]
     },
     "execution_count": 5,
     "metadata": {},
     "output_type": "execute_result"
    }
   ],
   "source": [
    "sample_df['crash_date'].head(10)"
   ]
  },
  {
   "cell_type": "markdown",
   "metadata": {},
   "source": [
    "A quick look at how we can pull the years out without pd datetime."
   ]
  },
  {
   "cell_type": "code",
   "execution_count": 6,
   "metadata": {
    "scrolled": true
   },
   "outputs": [
    {
     "data": {
      "text/plain": [
       "0     2019\n",
       "1     2017\n",
       "2     2020\n",
       "3     2020\n",
       "4     2020\n",
       "      ... \n",
       "95    2018\n",
       "96    2019\n",
       "97    2020\n",
       "98    2019\n",
       "99    2019\n",
       "Name: crash_year, Length: 100, dtype: int32"
      ]
     },
     "execution_count": 6,
     "metadata": {},
     "output_type": "execute_result"
    }
   ],
   "source": [
    "sample_df['crash_year'] = sample_df.crash_date.str.slice(6, 11).astype(int)\n",
    "sample_df['crash_year']"
   ]
  },
  {
   "cell_type": "code",
   "execution_count": 7,
   "metadata": {
    "scrolled": true
   },
   "outputs": [
    {
     "data": {
      "text/plain": [
       "dtype('O')"
      ]
     },
     "execution_count": 7,
     "metadata": {},
     "output_type": "execute_result"
    }
   ],
   "source": [
    "sample_df.crash_date.dtypes"
   ]
  },
  {
   "cell_type": "markdown",
   "metadata": {},
   "source": [
    "Above we imported a DataFrame and saw that it's date function is entered as a string.\n",
    "\n",
    "This is problematic because it is very fragile and it would be really painful to try and code a consistent formula if we wanted to, say, pull the hour, day, month, etc. out."
   ]
  },
  {
   "cell_type": "markdown",
   "metadata": {},
   "source": [
    "### Using pd.to_datetime"
   ]
  },
  {
   "cell_type": "code",
   "execution_count": 8,
   "metadata": {},
   "outputs": [],
   "source": [
    "sample_df['crash_date'] = pd.to_datetime(sample_df['crash_date'])"
   ]
  },
  {
   "cell_type": "code",
   "execution_count": 9,
   "metadata": {},
   "outputs": [
    {
     "data": {
      "text/plain": [
       "0    2019-07-10 17:56:00\n",
       "1    2017-06-30 16:00:00\n",
       "2    2020-07-10 10:25:00\n",
       "3    2020-07-11 01:00:00\n",
       "4    2020-07-08 14:00:00\n",
       "             ...        \n",
       "95   2018-09-26 08:27:00\n",
       "96   2019-01-16 16:28:00\n",
       "97   2020-02-19 12:50:00\n",
       "98   2019-08-30 17:32:00\n",
       "99   2019-07-08 13:25:00\n",
       "Name: crash_date, Length: 100, dtype: datetime64[ns]"
      ]
     },
     "execution_count": 9,
     "metadata": {},
     "output_type": "execute_result"
    }
   ],
   "source": [
    "sample_df.crash_date"
   ]
  },
  {
   "cell_type": "markdown",
   "metadata": {},
   "source": [
    "### Now that this is in datetime format, we can explore the data and sort by date in any way we see fit."
   ]
  },
  {
   "cell_type": "code",
   "execution_count": 10,
   "metadata": {
    "scrolled": true
   },
   "outputs": [
    {
     "data": {
      "text/plain": [
       "Timestamp('2019-01-01 00:00:00')"
      ]
     },
     "execution_count": 10,
     "metadata": {},
     "output_type": "execute_result"
    }
   ],
   "source": [
    "# creating a timestamp for 2019\n",
    "timestamp = pd.to_datetime('1/1/2019')\n",
    "timestamp"
   ]
  },
  {
   "cell_type": "code",
   "execution_count": 11,
   "metadata": {},
   "outputs": [],
   "source": [
    "# creating a subsection of the df that is just any data from 2019 onwards\n",
    "new_data = sample_df.loc[sample_df.crash_date >= timestamp, :]"
   ]
  },
  {
   "cell_type": "code",
   "execution_count": 12,
   "metadata": {},
   "outputs": [
    {
     "name": "stdout",
     "output_type": "stream",
     "text": [
      "<class 'pandas.core.frame.DataFrame'>\n",
      "Int64Index: 56 entries, 0 to 99\n",
      "Data columns (total 50 columns):\n",
      " #   Column                         Non-Null Count  Dtype         \n",
      "---  ------                         --------------  -----         \n",
      " 0   crash_record_id                56 non-null     object        \n",
      " 1   rd_no                          56 non-null     object        \n",
      " 2   crash_date_est_i               4 non-null      object        \n",
      " 3   crash_date                     56 non-null     datetime64[ns]\n",
      " 4   posted_speed_limit             56 non-null     int64         \n",
      " 5   traffic_control_device         56 non-null     object        \n",
      " 6   device_condition               56 non-null     object        \n",
      " 7   weather_condition              56 non-null     object        \n",
      " 8   lighting_condition             56 non-null     object        \n",
      " 9   first_crash_type               56 non-null     object        \n",
      " 10  trafficway_type                56 non-null     object        \n",
      " 11  lane_cnt                       4 non-null      float64       \n",
      " 12  alignment                      56 non-null     object        \n",
      " 13  roadway_surface_cond           56 non-null     object        \n",
      " 14  road_defect                    56 non-null     object        \n",
      " 15  report_type                    56 non-null     object        \n",
      " 16  crash_type                     56 non-null     object        \n",
      " 17  intersection_related_i         13 non-null     object        \n",
      " 18  not_right_of_way_i             1 non-null      object        \n",
      " 19  hit_and_run_i                  20 non-null     object        \n",
      " 20  damage                         56 non-null     object        \n",
      " 21  date_police_notified           56 non-null     object        \n",
      " 22  prim_contributory_cause        56 non-null     object        \n",
      " 23  sec_contributory_cause         56 non-null     object        \n",
      " 24  street_no                      56 non-null     int64         \n",
      " 25  street_direction               56 non-null     object        \n",
      " 26  street_name                    56 non-null     object        \n",
      " 27  beat_of_occurrence             56 non-null     float64       \n",
      " 28  photos_taken_i                 0 non-null      object        \n",
      " 29  statements_taken_i             3 non-null      object        \n",
      " 30  dooring_i                      0 non-null      object        \n",
      " 31  work_zone_i                    1 non-null      object        \n",
      " 32  work_zone_type                 1 non-null      object        \n",
      " 33  workers_present_i              0 non-null      object        \n",
      " 34  num_units                      56 non-null     float64       \n",
      " 35  most_severe_injury             56 non-null     object        \n",
      " 36  injuries_total                 56 non-null     float64       \n",
      " 37  injuries_fatal                 56 non-null     float64       \n",
      " 38  injuries_incapacitating        56 non-null     float64       \n",
      " 39  injuries_non_incapacitating    56 non-null     float64       \n",
      " 40  injuries_reported_not_evident  56 non-null     float64       \n",
      " 41  injuries_no_indication         56 non-null     float64       \n",
      " 42  injuries_unknown               56 non-null     float64       \n",
      " 43  crash_hour                     56 non-null     int64         \n",
      " 44  crash_day_of_week              56 non-null     int64         \n",
      " 45  crash_month                    56 non-null     int64         \n",
      " 46  latitude                       41 non-null     float64       \n",
      " 47  longitude                      41 non-null     float64       \n",
      " 48  location                       41 non-null     object        \n",
      " 49  crash_year                     56 non-null     int32         \n",
      "dtypes: datetime64[ns](1), float64(12), int32(1), int64(5), object(31)\n",
      "memory usage: 22.1+ KB\n"
     ]
    }
   ],
   "source": [
    "new_data.info()"
   ]
  },
  {
   "cell_type": "code",
   "execution_count": 13,
   "metadata": {},
   "outputs": [
    {
     "data": {
      "text/plain": [
       "Timedelta('1725 days 05:15:00')"
      ]
     },
     "execution_count": 13,
     "metadata": {},
     "output_type": "execute_result"
    }
   ],
   "source": [
    "# Back to our whole df, what's the time difference?\n",
    "sample_df.crash_date.max() - sample_df.crash_date.min()"
   ]
  },
  {
   "cell_type": "code",
   "execution_count": 14,
   "metadata": {},
   "outputs": [
    {
     "data": {
      "text/plain": [
       "Index(['December 21, 2018, 12:00:00 AM', 'December 22, 2018, 12:00:00 AM',\n",
       "       'December 23, 2018, 12:00:00 AM', 'December 24, 2018, 12:00:00 AM',\n",
       "       'December 25, 2018, 12:00:00 AM', 'December 26, 2018, 12:00:00 AM',\n",
       "       'December 27, 2018, 12:00:00 AM', 'December 28, 2018, 12:00:00 AM',\n",
       "       'December 29, 2018, 12:00:00 AM', 'December 30, 2018, 12:00:00 AM',\n",
       "       'December 31, 2018, 12:00:00 AM', 'January 01, 2019, 12:00:00 AM',\n",
       "       'January 02, 2019, 12:00:00 AM', 'January 03, 2019, 12:00:00 AM',\n",
       "       'January 04, 2019, 12:00:00 AM', 'January 05, 2019, 12:00:00 AM',\n",
       "       'January 06, 2019, 12:00:00 AM', 'January 07, 2019, 12:00:00 AM',\n",
       "       'January 08, 2019, 12:00:00 AM', 'January 09, 2019, 12:00:00 AM',\n",
       "       'January 10, 2019, 12:00:00 AM', 'January 11, 2019, 12:00:00 AM',\n",
       "       'January 12, 2019, 12:00:00 AM', 'January 13, 2019, 12:00:00 AM',\n",
       "       'January 14, 2019, 12:00:00 AM', 'January 15, 2019, 12:00:00 AM',\n",
       "       'January 16, 2019, 12:00:00 AM', 'January 17, 2019, 12:00:00 AM',\n",
       "       'January 18, 2019, 12:00:00 AM', 'January 19, 2019, 12:00:00 AM',\n",
       "       'January 20, 2019, 12:00:00 AM', 'January 21, 2019, 12:00:00 AM',\n",
       "       'January 22, 2019, 12:00:00 AM', 'January 23, 2019, 12:00:00 AM',\n",
       "       'January 24, 2019, 12:00:00 AM', 'January 25, 2019, 12:00:00 AM',\n",
       "       'January 26, 2019, 12:00:00 AM', 'January 27, 2019, 12:00:00 AM',\n",
       "       'January 28, 2019, 12:00:00 AM', 'January 29, 2019, 12:00:00 AM',\n",
       "       'January 30, 2019, 12:00:00 AM', 'January 31, 2019, 12:00:00 AM',\n",
       "       'February 01, 2019, 12:00:00 AM', 'February 02, 2019, 12:00:00 AM',\n",
       "       'February 03, 2019, 12:00:00 AM', 'February 04, 2019, 12:00:00 AM',\n",
       "       'February 05, 2019, 12:00:00 AM', 'February 06, 2019, 12:00:00 AM',\n",
       "       'February 07, 2019, 12:00:00 AM', 'February 08, 2019, 12:00:00 AM',\n",
       "       'February 09, 2019, 12:00:00 AM', 'February 10, 2019, 12:00:00 AM',\n",
       "       'February 11, 2019, 12:00:00 AM', 'February 12, 2019, 12:00:00 AM',\n",
       "       'February 13, 2019, 12:00:00 AM', 'February 14, 2019, 12:00:00 AM',\n",
       "       'February 15, 2019, 12:00:00 AM', 'February 16, 2019, 12:00:00 AM',\n",
       "       'February 17, 2019, 12:00:00 AM', 'February 18, 2019, 12:00:00 AM',\n",
       "       'February 19, 2019, 12:00:00 AM', 'February 20, 2019, 12:00:00 AM',\n",
       "       'February 21, 2019, 12:00:00 AM', 'February 22, 2019, 12:00:00 AM',\n",
       "       'February 23, 2019, 12:00:00 AM', 'February 24, 2019, 12:00:00 AM',\n",
       "       'February 25, 2019, 12:00:00 AM', 'February 26, 2019, 12:00:00 AM',\n",
       "       'February 27, 2019, 12:00:00 AM', 'February 28, 2019, 12:00:00 AM',\n",
       "       'March 01, 2019, 12:00:00 AM', 'March 02, 2019, 12:00:00 AM',\n",
       "       'March 03, 2019, 12:00:00 AM', 'March 04, 2019, 12:00:00 AM',\n",
       "       'March 05, 2019, 12:00:00 AM', 'March 06, 2019, 12:00:00 AM',\n",
       "       'March 07, 2019, 12:00:00 AM', 'March 08, 2019, 12:00:00 AM',\n",
       "       'March 09, 2019, 12:00:00 AM', 'March 10, 2019, 12:00:00 AM',\n",
       "       'March 11, 2019, 12:00:00 AM', 'March 12, 2019, 12:00:00 AM',\n",
       "       'March 13, 2019, 12:00:00 AM', 'March 14, 2019, 12:00:00 AM',\n",
       "       'March 15, 2019, 12:00:00 AM', 'March 16, 2019, 12:00:00 AM',\n",
       "       'March 17, 2019, 12:00:00 AM', 'March 18, 2019, 12:00:00 AM',\n",
       "       'March 19, 2019, 12:00:00 AM', 'March 20, 2019, 12:00:00 AM'],\n",
       "      dtype='object')"
      ]
     },
     "execution_count": 14,
     "metadata": {},
     "output_type": "execute_result"
    }
   ],
   "source": [
    "# what if we just want to see winter 2018-19?\n",
    "winter = pd.date_range(start=pd.Timestamp(\"2018-12-21 00:00\"), end=pd.Timestamp(\"2019-03-20 23:59:59\"))\n",
    "# winter is stored as datetime, but we can also see the actual dates and times using code like below\n",
    "winter.strftime('%B %d, %Y, %r')"
   ]
  },
  {
   "cell_type": "code",
   "execution_count": 15,
   "metadata": {},
   "outputs": [
    {
     "data": {
      "text/plain": [
       "Timedelta('89 days 00:00:00')"
      ]
     },
     "execution_count": 15,
     "metadata": {},
     "output_type": "execute_result"
    }
   ],
   "source": [
    "winter_range = (winter.max() - winter.min())\n",
    "winter_range"
   ]
  },
  {
   "cell_type": "code",
   "execution_count": 16,
   "metadata": {},
   "outputs": [],
   "source": [
    "# stratifying the df to just that winter's data\n",
    "winter_2019 = sample_df[(sample_df['crash_date'] >= winter[0]) & (sample_df['crash_date'] <= winter[-1])]"
   ]
  },
  {
   "cell_type": "code",
   "execution_count": 17,
   "metadata": {},
   "outputs": [
    {
     "data": {
      "text/plain": [
       "26   2019-01-24 06:45:00\n",
       "64   2019-02-13 09:29:00\n",
       "77   2019-01-24 15:30:00\n",
       "79   2019-01-10 14:52:00\n",
       "88   2018-12-26 18:43:00\n",
       "96   2019-01-16 16:28:00\n",
       "Name: crash_date, dtype: datetime64[ns]"
      ]
     },
     "execution_count": 17,
     "metadata": {},
     "output_type": "execute_result"
    }
   ],
   "source": [
    "winter_2019['crash_date']"
   ]
  },
  {
   "cell_type": "code",
   "execution_count": 18,
   "metadata": {},
   "outputs": [
    {
     "data": {
      "text/plain": [
       "(26     4\n",
       " 64     7\n",
       " 77     4\n",
       " 79     2\n",
       " 88    52\n",
       " 96     3\n",
       " Name: crash_date, dtype: int64,\n",
       " 26     24\n",
       " 64     44\n",
       " 77     24\n",
       " 79     10\n",
       " 88    360\n",
       " 96     16\n",
       " Name: crash_date, dtype: int64,\n",
       " 26    3\n",
       " 64    2\n",
       " 77    3\n",
       " 79    3\n",
       " 88    2\n",
       " 96    2\n",
       " Name: crash_date, dtype: int64,\n",
       " 26     6\n",
       " 64     9\n",
       " 77    15\n",
       " 79    14\n",
       " 88    18\n",
       " 96    16\n",
       " Name: crash_date, dtype: int64)"
      ]
     },
     "execution_count": 18,
     "metadata": {},
     "output_type": "execute_result"
    }
   ],
   "source": [
    "# we can also use datetime series functions to explore the dates in different formats\n",
    "winter_2019.crash_date.dt.week, winter_2019.crash_date.dt.dayofyear, winter_2019.crash_date.dt.dayofweek, winter_2019.crash_date.dt.hour"
   ]
  },
  {
   "cell_type": "code",
   "execution_count": 19,
   "metadata": {},
   "outputs": [
    {
     "data": {
      "text/plain": [
       "datetime.date(2021, 9, 20)"
      ]
     },
     "execution_count": 19,
     "metadata": {},
     "output_type": "execute_result"
    }
   ],
   "source": [
    "# the datetime library also has useful functions, such as .today() - this works well outside of dataframes.\n",
    "dt.date.today()"
   ]
  },
  {
   "cell_type": "markdown",
   "metadata": {},
   "source": [
    "### This is a small sample of Datetime ###\n",
    "\n",
    "There's so much more to explore. Check out the documentation in the blog!"
   ]
  }
 ],
 "metadata": {
  "kernelspec": {
   "display_name": "Python 3",
   "language": "python",
   "name": "python3"
  },
  "language_info": {
   "codemirror_mode": {
    "name": "ipython",
    "version": 3
   },
   "file_extension": ".py",
   "mimetype": "text/x-python",
   "name": "python",
   "nbconvert_exporter": "python",
   "pygments_lexer": "ipython3",
   "version": "3.8.5"
  }
 },
 "nbformat": 4,
 "nbformat_minor": 4
}
